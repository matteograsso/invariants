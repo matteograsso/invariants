{
 "cells": [
  {
   "cell_type": "code",
   "execution_count": 27,
   "metadata": {},
   "outputs": [],
   "source": [
    "import pyphi\n",
    "import numpy as np"
   ]
  },
  {
   "cell_type": "code",
   "execution_count": 28,
   "metadata": {},
   "outputs": [],
   "source": [
    "pyphi.config.MEASURE = 'BLD'"
   ]
  },
  {
   "cell_type": "code",
   "execution_count": 3,
   "metadata": {},
   "outputs": [],
   "source": [
    "# Weights matrix\n",
    "\n",
    "ic = 0.95 # input connection\n",
    "ei = 1 # external input\n",
    "nc = -2 # inhibition\n",
    "bc = 0.05 # backward connection\n",
    "gc = 0.02 # grid lateral connection\n",
    "sg = 1 # grid self-connection\n",
    "sc = 0.01 # default self-connection\n",
    "isc = 0.1 # invariant self-connection\n",
    "all_weights = np.array([\n",
    "                        [sg, gc, 0, 0, 0, 0, 0, 0, gc, 0, 0, 0, 0, 0, 0, bc, 0, 0, 0, 0, ei, 0, 0, 0, 0, 0, 0, 0], # A\n",
    "                        [gc, sg, gc, 0, 0, 0, 0, 0, gc, gc, 0, 0, 0, 0, 0, bc, 0, 0, 0, 0, 0, ei, 0, 0, 0, 0, 0, 0], # B\n",
    "                        [0, gc, sg, gc, 0, 0, 0, 0, 0, gc, gc, 0, 0, 0, 0, 0, bc, 0, 0, 0, 0, 0, ei, 0, 0, 0, 0, 0], # C\n",
    "                        [0, 0, gc, sg, gc, 0, 0, 0, 0, 0, gc, gc, 0, 0, 0, 0, bc, 0, 0, 0, 0, 0, 0, ei, 0, 0, 0, 0], # D\n",
    "                        [0, 0, 0, gc, sg, gc, 0, 0, 0, 0, 0, gc, gc, 0, 0, 0, 0, bc, 0, 0, 0, 0, 0, 0, ei, 0, 0, 0], # E\n",
    "                        [0, 0, 0, 0, gc, sg, gc, 0, 0, 0, 0, 0, gc, gc, 0, 0, 0, bc, 0, 0, 0, 0, 0, 0, 0, ei, 0, 0], # F\n",
    "                        [0, 0, 0, 0, 0, gc, sg, gc, 0, 0, 0, 0, 0, gc, gc, 0, 0, 0, bc, 0, 0, 0, 0, 0, 0, 0, ei, 0], # G\n",
    "                        [0, 0, 0, 0, 0, 0, gc, sg, 0, 0, 0, 0, 0, 0, gc, 0, 0, 0, bc, 0, 0, 0, 0, 0, 0, 0, 0, ei], # H\n",
    "                        [gc, gc, 0, 0, 0, 0, 0, 0, sg, gc, 0, 0, 0, 0, 0, 0, 0, 0, 0, 0, ei, ei, 0, 0, 0, 0, 0, 0], # I\n",
    "                        [0, gc, gc, 0, 0, 0, 0, 0, gc, sg, gc, 0, 0, 0, 0, 0, 0, 0, 0, 0, 0, ei, ei, 0, 0, 0, 0, 0], # J\n",
    "                        [0, 0, gc, gc, 0, 0, 0, 0, 0, gc, sg, gc, 0, 0, 0, 0, 0, 0, 0, 0, 0, 0, ei, ei, 0, 0, 0, 0], # K\n",
    "                        [0, 0, 0, gc, gc, 0, 0, 0, 0, 0, gc, sg, gc, 0, 0, 0, 0, 0, 0, 0, 0, 0, 0, ei, ei, 0, 0, 0], # L\n",
    "                        [0, 0, 0, 0, gc, gc, 0, 0, 0, 0, 0, gc, sg, gc, 0, 0, 0, 0, 0, 0, 0, 0, 0, 0, ei, ei, 0, 0], # M\n",
    "                        [0, 0, 0, 0, 0, gc, gc, 0, 0, 0, 0, 0, gc, sg, gc, 0, 0, 0, 0, 0, 0, 0, 0, 0, 0, ei, ei, 0], # N\n",
    "                        [0, 0, 0, 0, 0, 0, gc, gc, 0, 0, 0, 0, 0, gc, sg, 0, 0, 0, 0, 0, 0, 0, 0, 0, 0, 0, ei, ei], # O\n",
    "                        [ic, ic, 0, 0, 0, 0, 0, 0, nc, nc, 0, 0, 0, 0, 0, sc, 0, 0, 0, bc, 0, 0, 0, 0, 0, 0, 0, 0], # P\n",
    "                        [0, 0, ic, ic, 0, 0, 0, 0, 0, nc, nc, nc, 0, 0, 0, 0, sc, 0, 0, bc, 0, 0, 0, 0, 0, 0, 0, 0], # Q\n",
    "                        [0, 0, 0, 0, ic, ic, 0, 0, 0, 0, 0, nc, nc, nc, 0, 0, 0, sc, 0, bc, 0, 0, 0, 0, 0, 0, 0, 0], # R\n",
    "                        [0, 0, 0, 0, 0, 0, ic, ic, 0, 0, 0, 0, 0, nc, nc, 0, 0, 0, sc, bc, 0, 0, 0, 0, 0, 0, 0, 0], # S\n",
    "                        [0, 0, 0, 0, 0, 0, 0, 0, 0, 0, 0, 0, 0, 0, 0, ic, ic, ic ,ic, isc, 0, 0, 0, 0, 0, 0, 0, 0], # T\n",
    "                        [0, 0, 0, 0, 0, 0, 0, 0, 0, 0, 0, 0, 0, 0, 0, 0, 0, 0 , 0, 0, 0, 0, 0, 0, 0, 0, 0, 0], # a\n",
    "                        [0, 0, 0, 0, 0, 0, 0, 0, 0, 0, 0, 0, 0, 0, 0, 0, 0, 0 , 0, 0, 0, 0, 0, 0, 0, 0, 0, 0], # b\n",
    "                        [0, 0, 0, 0, 0, 0, 0, 0, 0, 0, 0, 0, 0, 0, 0, 0, 0, 0 , 0, 0, 0, 0, 0, 0, 0, 0, 0, 0], # c\n",
    "                        [0, 0, 0, 0, 0, 0, 0, 0, 0, 0, 0, 0, 0, 0, 0, 0, 0, 0 , 0, 0, 0, 0, 0, 0, 0, 0, 0, 0], # d\n",
    "                        [0, 0, 0, 0, 0, 0, 0, 0, 0, 0, 0, 0, 0, 0, 0, 0, 0, 0 , 0, 0, 0, 0, 0, 0, 0, 0, 0, 0], # e\n",
    "                        [0, 0, 0, 0, 0, 0, 0, 0, 0, 0, 0, 0, 0, 0, 0, 0, 0, 0 , 0, 0, 0, 0, 0, 0, 0, 0, 0, 0], # f\n",
    "                        [0, 0, 0, 0, 0, 0, 0, 0, 0, 0, 0, 0, 0, 0, 0, 0, 0, 0 , 0, 0, 0, 0, 0, 0, 0, 0, 0, 0], # g\n",
    "                        [0, 0, 0, 0, 0, 0, 0, 0, 0, 0, 0, 0, 0, 0, 0, 0, 0, 0 , 0, 0, 0, 0, 0, 0, 0, 0, 0, 0] # h\n",
    "                    ])  #A, B, C, D, E, F, G, H, I, J, K, L, M, N, O, P, Q, R,  S, T, a, b, c, d, e, f, g, h\n",
    "\n",
    "weights = []\n",
    "for x in range(0,20):\n",
    "    weights.append(all_weights[x][range(0,20)])\n",
    "weights = np.array(weights)\n",
    "# Gate function: nodes have threshold >= 1\n",
    "                      #A, B, C, D, E, F, G, H, I, J, K, L, M, N, O, P, Q, R, S, T, a, b, c, d, e, f, g, h\n",
    "thresholds = np.array([1, 1, 1, 1, 1, 1, 1, 1, 1, 1, 1, 1, 1, 1, 1,.9,.9,.9,.9,.9])\n",
    "nN = len(thresholds)"
   ]
  },
  {
   "cell_type": "code",
   "execution_count": 23,
   "metadata": {},
   "outputs": [],
   "source": [
    "# Create the tpm\n",
    "pset = pyphi.utils.powerset(np.arange(nN))\n",
    "\n",
    "tpm = np.zeros([2**nN,nN])\n",
    "#indslist = [[] for x in range(0,len(pset))]\n",
    "for inds in pset:\n",
    "    istate = np.zeros(nN)\n",
    "    for y in range(0,len(inds)):\n",
    "        istate[inds[y]] = 1\n",
    "    inpt = istate\n",
    "    sw = np.zeros(nN,dtype='f')\n",
    "    swN = np.zeros(nN)\n",
    "    for z in range(0,nN):\n",
    "        sw[z] = sum(inpt*weights[z])\n",
    "        \n",
    "        swN[z] = .001 + .99*(sw[z]>=thresholds[z])\n",
    "\n",
    "\n",
    "    #print(inpt,'\\n',sw,'\\n',swN, '\\n''------''\\n')\n",
    "    V = 0;\n",
    "    for v in range(0,nN):\n",
    "        V = V + istate[v]*2**v\n",
    "    tpm[int(V)] = tuple(swN)\n",
    "\n",
    "# Create the connectivity matrix\n",
    "cm = np.abs(np.where(weights != 0, 1, 0))\n",
    "\n",
    "# Transpose our (receiving, sending) CM to use the PyPhi convention of (sending, recieving)\n",
    "cm = np.transpose(cm)\n",
    "\n",
    "# Create the network\n",
    "subsystem_labels = ('A', 'B', 'C', 'D', 'E', 'F', 'G', 'H', 'I', 'J', 'K', 'L', 'M', 'N', 'O', 'P', 'Q', 'R', 'S', 'T')\n",
    "network = pyphi.Network(tpm, cm, subsystem_labels)"
   ]
  },
  {
   "cell_type": "code",
   "execution_count": 5,
   "metadata": {},
   "outputs": [],
   "source": [
    "# Set state and create subsystem\n",
    "        #A  B  C  D  E  F  G  H  I  J  K  L  M  N  O  P  Q  R  S  T#\n",
    "state = (0, 0, 0, 0, 0, 0, 0, 0, 0, 0, 0, 0, 0, 0, 0, 0, 0, 0, 0, 0)\n",
    "subsystem = pyphi.Subsystem(network, state, range(network.size))\n",
    "A, B, C, D, E, F, G, H, I, J, K, L, M, N, O, P, Q, R, S, T = subsystem.node_indices\n",
    "\n",
    "pyphi.config.REPR_VERBOSITY = 1"
   ]
  },
  {
   "cell_type": "code",
   "execution_count": null,
   "metadata": {},
   "outputs": [],
   "source": []
  }
 ],
 "metadata": {
  "kernelspec": {
   "display_name": "Python 3",
   "language": "python",
   "name": "python3"
  },
  "language_info": {
   "codemirror_mode": {
    "name": "ipython",
    "version": 3
   },
   "file_extension": ".py",
   "mimetype": "text/x-python",
   "name": "python",
   "nbconvert_exporter": "python",
   "pygments_lexer": "ipython3",
   "version": "3.6.5"
  }
 },
 "nbformat": 4,
 "nbformat_minor": 2
}
