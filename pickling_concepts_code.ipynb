{
 "cells": [
  {
   "cell_type": "markdown",
   "metadata": {},
   "source": [
    "## Pickling concepts"
   ]
  },
  {
   "cell_type": "code",
   "execution_count": 23,
   "metadata": {},
   "outputs": [],
   "source": [
    "import pyphi\n",
    "import pickle\n",
    "import os\n",
    "import string\n",
    "from pathlib import Path\n",
    "import pandas as pd\n",
    "from pandas import DataFrame, Series\n",
    "from collections import OrderedDict"
   ]
  },
  {
   "cell_type": "code",
   "execution_count": null,
   "metadata": {},
   "outputs": [],
   "source": [
    "def create_directory(name, vers, state):\n",
    "# Create/select diretory with network info (name, version, state) to save and identify results\n",
    "    curr_dir = os.getcwd()\n",
    "    os.mkdir(f\"{curr_dir}/{name}_{vers}_{state}\")\n",
    "    new_dir_dict = {f'curr_dir': curr_dir, 'name': name, 'vers': vers, 'state': state}\n",
    "    return new_dir_dict"
   ]
  },
  {
   "cell_type": "code",
   "execution_count": 34,
   "metadata": {},
   "outputs": [],
   "source": [
    "def concept2pickle(concept):\n",
    "    # Pickles a concept\n",
    "    pandas_concept = Series(OrderedDict({\n",
    "        'mechanism':  concept.subsystem.indices2nodes(concept.mechanism),\n",
    "        'phi': concept.phi,\n",
    "        'cause_purview': concept.subsystem.indices2nodes(concept.cause_purview),\n",
    "        'cause_phi': concept.cause.phi,\n",
    "        'cause_mip': concept.cause.mip,\n",
    "        'effect_purview': concept.subsystem.indices2nodes(concept.effect_purview),\n",
    "        'effect_phi': concept.effect.phi,\n",
    "        'effect_mip': concept.effect.mip,\n",
    "    }))\n",
    " \n",
    "    # Eliminates punctuation and white spaces for file name\n",
    "    concept_name = str(concept.subsystem.indices2nodes(concept.mechanism))\n",
    "    translator = str.maketrans('', '', string.punctuation)\n",
    "    file_name_no_punct = concept_name.translate(translator)\n",
    "    file_name = file_name_no_punct.replace(' ','')\n",
    "    \n",
    "    pickled_concept = pandas_concept.to_pickle(f'{new_dir}/{network_name}_{network_version}_{network_state}_{file_name}.file', compression=None)\n",
    "       \n",
    "    return pickled_concept"
   ]
  },
  {
   "cell_type": "code",
   "execution_count": 53,
   "metadata": {},
   "outputs": [],
   "source": [
    "def pickle_concepts(nodes=None, orders=None, phi_lower_bound=None):\n",
    "        \n",
    "    if nodes is None:\n",
    "        nodes = subsystem.node_indices\n",
    "        \n",
    "    if orders is None:\n",
    "        orders = (1,)\n",
    "        \n",
    "    if phi_lower_bound is None:\n",
    "        phi_lower_bound = -1\n",
    "    \n",
    "    excel_path = (f'{new_dir}/{network_name}_{network_version}_{network_state}.xlsx')\n",
    "    \n",
    "    if not os.path.exists(excel_path):\n",
    "        openpyxl.workbook.Workbook.create_sheet(excel_path)\n",
    "    \n",
    "    book = openpyxl.load_workbook(excel_path)\n",
    "    writer = pd.ExcelWriter(excel_path, engine='openpyxl')\n",
    "    writer.book = book\n",
    "    startrow = 1\n",
    "    \n",
    "    node_labels = str(subsystem.indices2nodes(nodes))\n",
    "    translator = str.maketrans('', '', string.punctuation)\n",
    "    sheet_name_no_punct = node_labels.translate(translator)\n",
    "    sheet_name = (f\"{sheet_name_no_punct.replace(' ','')}_{orders}\")\n",
    "        \n",
    "    mechanisms = [subset for subset in pyphi.utils.powerset(nodes) \n",
    "              if len(subset) in orders]\n",
    "    \n",
    "    for mechanism in tqdm_notebook(mechanisms):\n",
    "        concept = subsystem.concept(mechanism)\n",
    "        if concept.phi > phi_lower_bound:\n",
    "            C = concept2pickle(concept)\n",
    "            concept_label = str(concept.subsystem.indices2nodes(concept.mechanism))\n",
    "            translator = str.maketrans('', '', string.punctuation)\n",
    "            concept_name_no_punct = concept_label.translate(translator)\n",
    "            concept_name = concept_name_no_punct.replace(' ','')\n",
    "            \n",
    "            pickled_concept = pd.read_pickle(f\"{new_dir}/{network_name}_{network_version}_{network_state}_{concept_name}.file\")\n",
    "            \n",
    "            with open(f\"{new_dir}/{network_name}_{network_version}_{network_state}_{concept_name}.txt\", \"w\") as text_file:\n",
    "                print(pickled_concept, file=text_file)\n",
    "               \n",
    "            writer.sheets = dict((ws.title, ws) for ws in book.worksheets)\n",
    "            row = DataFrame(concept2row(concept)).transpose()\n",
    "            row.to_excel(writer, (f'{sheet_name}'), startrow=startrow, index=False, header=None)\n",
    "            startrow += 1\n",
    "            writer.save()"
   ]
  },
  {
   "cell_type": "code",
   "execution_count": 58,
   "metadata": {},
   "outputs": [],
   "source": [
    "def pickle2concept(mechanism):\n",
    "    \"\"\"\n",
    "    Retrieve a pickled concept as a pandas series.\n",
    "    The unpickled concept has the properties of a pandas dictionary.\n",
    "    To retrieve info:\n",
    "        C.phi\n",
    "        C.cause_purview\n",
    "        C.cause_phi\n",
    "        C.cause_mip\n",
    "        C.effect_purview\n",
    "        C.effect_phi\n",
    "        C.effect_mip\n",
    "    \"\"\"\n",
    "    file = (f'{new_dir}/{network_name}_{network_version}_{network_state}_{mechanism}.file')\n",
    "    unpickled_concept = pd.read_pickle(file)\n",
    "    return unpickled_concept"
   ]
  },
  {
   "cell_type": "code",
   "execution_count": null,
   "metadata": {},
   "outputs": [],
   "source": [
    "'''\n",
    "# Recover repertoire from pickled concept\n",
    "C = pickle2concept(filename)\n",
    "mechanism = pyphi.convert.nodes2indices(C.mechanism)\n",
    "purview = pyphi.convert.nodes2indices(C.cause_purview)\n",
    "partition = C.cause_mip\n",
    "phi, partitioned_repertoire = subsystem.evaluate_partition(Direction.CAUSE, mechanism, purview, partition)\n",
    "print(phi)\n",
    "print(partitioned_repertoire)\n",
    "'''"
   ]
  }
 ],
 "metadata": {
  "kernelspec": {
   "display_name": "Python 3",
   "language": "python",
   "name": "python3"
  },
  "language_info": {
   "codemirror_mode": {
    "name": "ipython",
    "version": 3
   },
   "file_extension": ".py",
   "mimetype": "text/x-python",
   "name": "python",
   "nbconvert_exporter": "python",
   "pygments_lexer": "ipython3",
   "version": "3.6.5"
  }
 },
 "nbformat": 4,
 "nbformat_minor": 2
}
