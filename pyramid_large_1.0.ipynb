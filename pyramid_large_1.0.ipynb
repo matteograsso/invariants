{
 "cells": [
  {
   "cell_type": "code",
   "execution_count": 539,
   "metadata": {},
   "outputs": [],
   "source": [
    "%run \"/Users/matteograsso/boxsync/pyphi_invariants/pyramid_large/invariant_module.ipynb\"\n",
    "%run \"/Users/matteograsso/boxsync/pyphi_invariants/pyramid_large/picklejar/pickling_concepts_code.ipynb\""
   ]
  },
  {
   "cell_type": "markdown",
   "metadata": {},
   "source": [
    "## Connectivity matrix and connection weights"
   ]
  },
  {
   "cell_type": "code",
   "execution_count": 85,
   "metadata": {},
   "outputs": [],
   "source": [
    "# Set network info (name, version, state) to save and identify results\n",
    "network_name = \"largepyr\"\n",
    "network_version = \"1.0\"\n",
    "network_state = \"alloff\""
   ]
  },
  {
   "cell_type": "code",
   "execution_count": 441,
   "metadata": {},
   "outputs": [],
   "source": [
    "# Create new dir to store network info and pickled concepts\n",
    "new_dir_dict = create_directory(network_name, network_version, network_state)\n",
    "new_dir = (f\"{new_dir_dict['curr_dir']}/{new_dir_dict['name']}_{new_dir_dict['vers']}_{new_dir_dict['state']}\")"
   ]
  },
  {
   "cell_type": "code",
   "execution_count": 87,
   "metadata": {},
   "outputs": [],
   "source": [
    "## Remove dir\n",
    "#os.rmdir(new_dir)"
   ]
  },
  {
   "cell_type": "code",
   "execution_count": 88,
   "metadata": {},
   "outputs": [],
   "source": [
    "n_nodes = 28\n",
    "n_states = 2 ** n_nodes\n",
    "node_labels = ('A', 'B', 'C', 'D', 'E', 'F', 'G', 'H', 'I', 'J', 'K', 'L', 'M', 'N', 'O', 'P', 'Q', 'R', 'S', 'T',\\\n",
    "              'a', 'b', 'c', 'd', 'e', 'f', 'g', 'h')"
   ]
  },
  {
   "cell_type": "code",
   "execution_count": 89,
   "metadata": {
    "scrolled": true
   },
   "outputs": [
    {
     "data": {
      "text/plain": [
       "array([[1, 1, 0, 0, 0, 0, 0, 0, 1, 0, 0, 0, 0, 0, 0, 1, 0, 0, 0, 0, 0, 0,\n",
       "        0, 0, 0, 0, 0, 0],\n",
       "       [1, 1, 1, 0, 0, 0, 0, 0, 1, 1, 0, 0, 0, 0, 0, 1, 0, 0, 0, 0, 0, 0,\n",
       "        0, 0, 0, 0, 0, 0],\n",
       "       [0, 1, 1, 1, 0, 0, 0, 0, 0, 1, 1, 0, 0, 0, 0, 0, 1, 0, 0, 0, 0, 0,\n",
       "        0, 0, 0, 0, 0, 0],\n",
       "       [0, 0, 1, 1, 1, 0, 0, 0, 0, 0, 1, 1, 0, 0, 0, 0, 1, 0, 0, 0, 0, 0,\n",
       "        0, 0, 0, 0, 0, 0],\n",
       "       [0, 0, 0, 1, 1, 1, 0, 0, 0, 0, 0, 1, 1, 0, 0, 0, 0, 1, 0, 0, 0, 0,\n",
       "        0, 0, 0, 0, 0, 0],\n",
       "       [0, 0, 0, 0, 1, 1, 1, 0, 0, 0, 0, 0, 1, 1, 0, 0, 0, 1, 0, 0, 0, 0,\n",
       "        0, 0, 0, 0, 0, 0],\n",
       "       [0, 0, 0, 0, 0, 1, 1, 1, 0, 0, 0, 0, 0, 1, 1, 0, 0, 0, 1, 0, 0, 0,\n",
       "        0, 0, 0, 0, 0, 0],\n",
       "       [0, 0, 0, 0, 0, 0, 1, 1, 0, 0, 0, 0, 0, 0, 1, 0, 0, 0, 1, 0, 0, 0,\n",
       "        0, 0, 0, 0, 0, 0],\n",
       "       [1, 1, 0, 0, 0, 0, 0, 0, 1, 1, 0, 0, 0, 0, 0, 1, 0, 0, 0, 0, 0, 0,\n",
       "        0, 0, 0, 0, 0, 0],\n",
       "       [0, 1, 1, 0, 0, 0, 0, 0, 1, 1, 1, 0, 0, 0, 0, 1, 1, 0, 0, 0, 0, 0,\n",
       "        0, 0, 0, 0, 0, 0],\n",
       "       [0, 0, 1, 1, 0, 0, 0, 0, 0, 1, 1, 1, 0, 0, 0, 0, 1, 0, 0, 0, 0, 0,\n",
       "        0, 0, 0, 0, 0, 0],\n",
       "       [0, 0, 0, 1, 1, 0, 0, 0, 0, 0, 1, 1, 1, 0, 0, 0, 1, 1, 0, 0, 0, 0,\n",
       "        0, 0, 0, 0, 0, 0],\n",
       "       [0, 0, 0, 0, 1, 1, 0, 0, 0, 0, 0, 1, 1, 1, 0, 0, 0, 1, 0, 0, 0, 0,\n",
       "        0, 0, 0, 0, 0, 0],\n",
       "       [0, 0, 0, 0, 0, 1, 1, 0, 0, 0, 0, 0, 1, 1, 1, 0, 0, 1, 1, 0, 0, 0,\n",
       "        0, 0, 0, 0, 0, 0],\n",
       "       [0, 0, 0, 0, 0, 0, 1, 1, 0, 0, 0, 0, 0, 1, 1, 0, 0, 0, 1, 0, 0, 0,\n",
       "        0, 0, 0, 0, 0, 0],\n",
       "       [1, 1, 0, 0, 0, 0, 0, 0, 0, 0, 0, 0, 0, 0, 0, 1, 0, 0, 0, 1, 0, 0,\n",
       "        0, 0, 0, 0, 0, 0],\n",
       "       [0, 0, 1, 1, 0, 0, 0, 0, 0, 0, 0, 0, 0, 0, 0, 0, 1, 0, 0, 1, 0, 0,\n",
       "        0, 0, 0, 0, 0, 0],\n",
       "       [0, 0, 0, 0, 1, 1, 0, 0, 0, 0, 0, 0, 0, 0, 0, 0, 0, 1, 0, 1, 0, 0,\n",
       "        0, 0, 0, 0, 0, 0],\n",
       "       [0, 0, 0, 0, 0, 0, 1, 1, 0, 0, 0, 0, 0, 0, 0, 0, 0, 0, 1, 1, 0, 0,\n",
       "        0, 0, 0, 0, 0, 0],\n",
       "       [0, 0, 0, 0, 0, 0, 0, 0, 0, 0, 0, 0, 0, 0, 0, 1, 1, 1, 1, 1, 0, 0,\n",
       "        0, 0, 0, 0, 0, 0],\n",
       "       [1, 0, 0, 0, 0, 0, 0, 0, 1, 0, 0, 0, 0, 0, 0, 0, 0, 0, 0, 0, 0, 0,\n",
       "        0, 0, 0, 0, 0, 0],\n",
       "       [0, 1, 0, 0, 0, 0, 0, 0, 1, 1, 0, 0, 0, 0, 0, 0, 0, 0, 0, 0, 0, 0,\n",
       "        0, 0, 0, 0, 0, 0],\n",
       "       [0, 0, 1, 0, 0, 0, 0, 0, 0, 1, 1, 0, 0, 0, 0, 0, 0, 0, 0, 0, 0, 0,\n",
       "        0, 0, 0, 0, 0, 0],\n",
       "       [0, 0, 0, 1, 0, 0, 0, 0, 0, 0, 1, 1, 0, 0, 0, 0, 0, 0, 0, 0, 0, 0,\n",
       "        0, 0, 0, 0, 0, 0],\n",
       "       [0, 0, 0, 0, 1, 0, 0, 0, 0, 0, 0, 1, 1, 0, 0, 0, 0, 0, 0, 0, 0, 0,\n",
       "        0, 0, 0, 0, 0, 0],\n",
       "       [0, 0, 0, 0, 0, 1, 0, 0, 0, 0, 0, 0, 1, 1, 0, 0, 0, 0, 0, 0, 0, 0,\n",
       "        0, 0, 0, 0, 0, 0],\n",
       "       [0, 0, 0, 0, 0, 0, 1, 0, 0, 0, 0, 0, 0, 1, 1, 0, 0, 0, 0, 0, 0, 0,\n",
       "        0, 0, 0, 0, 0, 0],\n",
       "       [0, 0, 0, 0, 0, 0, 0, 1, 0, 0, 0, 0, 0, 0, 1, 0, 0, 0, 0, 0, 0, 0,\n",
       "        0, 0, 0, 0, 0, 0]])"
      ]
     },
     "execution_count": 89,
     "metadata": {},
     "output_type": "execute_result"
    }
   ],
   "source": [
    "ic = 1 # input connection\n",
    "ei = 1 # external input \n",
    "nc = -2 # inhibition\n",
    "bc = 0.01 # backward connection\n",
    "gc = 0.02 # grid lateral connection\n",
    "sg = 1 # grid self-connection\n",
    "sc = 0.01 # default self-connection\n",
    "all_weights = np.array([\n",
    "    [sg, gc, 0, 0, 0, 0, 0, 0, gc, 0, 0, 0, 0, 0, 0, bc, 0, 0, 0, 0, ei, 0, 0, 0, 0, 0, 0, 0], # A\n",
    "    [gc, sg, gc, 0, 0, 0, 0, 0, gc, gc, 0, 0, 0, 0, 0, bc, 0, 0, 0, 0, 0, ei, 0, 0, 0, 0, 0, 0], # B\n",
    "    [0, gc, sg, gc, 0, 0, 0, 0, 0, gc, gc, 0, 0, 0, 0, 0, bc, 0, 0, 0, 0, 0, ei, 0, 0, 0, 0, 0], # C\n",
    "    [0, 0, gc, sg, gc, 0, 0, 0, 0, 0, gc, gc, 0, 0, 0, 0, bc, 0, 0, 0, 0, 0, 0, ei, 0, 0, 0, 0], # D\n",
    "    [0, 0, 0, gc, sg, gc, 0, 0, 0, 0, 0, gc, gc, 0, 0, 0, 0, bc, 0, 0, 0, 0, 0, 0, ei, 0, 0, 0], # E\n",
    "    [0, 0, 0, 0, gc, sg, gc, 0, 0, 0, 0, 0, gc, gc, 0, 0, 0, bc, 0, 0, 0, 0, 0, 0, 0, ei, 0, 0], # F\n",
    "    [0, 0, 0, 0, 0, gc, sg, gc, 0, 0, 0, 0, 0, gc, gc, 0, 0, 0, bc, 0, 0, 0, 0, 0, 0, 0, ei, 0], # G\n",
    "    [0, 0, 0, 0, 0, 0, gc, sg, 0, 0, 0, 0, 0, 0, gc, 0, 0, 0, bc, 0, 0, 0, 0, 0, 0, 0, 0, ei], # H\n",
    "    [gc, gc, 0, 0, 0, 0, 0, 0, sg, gc, 0, 0, 0, 0, 0, 0, 0, 0, 0, 0, ei, ei, 0, 0, 0, 0, 0, 0], # I\n",
    "    [0, gc, gc, 0, 0, 0, 0, 0, gc, sg, gc, 0, 0, 0, 0, 0, 0, 0, 0, 0, 0, ei, ei, 0, 0, 0, 0, 0], # J\n",
    "    [0, 0, gc, gc, 0, 0, 0, 0, 0, gc, sg, gc, 0, 0, 0, 0, 0, 0, 0, 0, 0, 0, ei, ei, 0, 0, 0, 0], # K\n",
    "    [0, 0, 0, gc, gc, 0, 0, 0, 0, 0, gc, sg, gc, 0, 0, 0, 0, 0, 0, 0, 0, 0, 0, ei, ei, 0, 0, 0], # L\n",
    "    [0, 0, 0, 0, gc, gc, 0, 0, 0, 0, 0, gc, sg, gc, 0, 0, 0, 0, 0, 0, 0, 0, 0, 0, ei, ei, 0, 0], # M\n",
    "    [0, 0, 0, 0, 0, gc, gc, 0, 0, 0, 0, 0, gc, sg, gc, 0, 0, 0, 0, 0, 0, 0, 0, 0, 0, ei, ei, 0], # N\n",
    "    [0, 0, 0, 0, 0, 0, gc, gc, 0, 0, 0, 0, 0, gc, sg, 0, 0, 0, 0, 0, 0, 0, 0, 0, 0, 0, ei, ei], # O\n",
    "    [ic, ic, 0, 0, 0, 0, 0, 0, nc, nc, 0, 0, 0, 0, 0, sc, 0, 0, 0, bc, 0, 0, 0, 0, 0, 0, 0, 0], # P\n",
    "    [0, 0, ic, ic, 0, 0, 0, 0, 0, nc, nc, nc, 0, 0, 0, 0, sc, 0, 0, bc, 0, 0, 0, 0, 0, 0, 0, 0], # Q\n",
    "    [0, 0, 0, 0, ic, ic, 0, 0, 0, 0, 0, nc, nc, nc, 0, 0, 0, sc, 0, bc, 0, 0, 0, 0, 0, 0, 0, 0], # R\n",
    "    [0, 0, 0, 0, 0, 0, ic, ic, 0, 0, 0, 0, 0, nc, nc, 0, 0, 0, sc, bc, 0, 0, 0, 0, 0, 0, 0, 0], # S\n",
    "    [0, 0, 0, 0, 0, 0, 0, 0, 0, 0, 0, 0, 0, 0, 0, ic, ic, ic ,ic, sc, 0, 0, 0, 0, 0, 0, 0, 0], # T\n",
    "    [0, 0, 0, 0, 0, 0, 0, 0, 0, 0, 0, 0, 0, 0, 0, 0, 0, 0 , 0, 0, 0, 0, 0, 0, 0, 0, 0, 0], # a\n",
    "    [0, 0, 0, 0, 0, 0, 0, 0, 0, 0, 0, 0, 0, 0, 0, 0, 0, 0 , 0, 0, 0, 0, 0, 0, 0, 0, 0, 0], # b\n",
    "    [0, 0, 0, 0, 0, 0, 0, 0, 0, 0, 0, 0, 0, 0, 0, 0, 0, 0 , 0, 0, 0, 0, 0, 0, 0, 0, 0, 0], # c\n",
    "    [0, 0, 0, 0, 0, 0, 0, 0, 0, 0, 0, 0, 0, 0, 0, 0, 0, 0 , 0, 0, 0, 0, 0, 0, 0, 0, 0, 0], # d\n",
    "    [0, 0, 0, 0, 0, 0, 0, 0, 0, 0, 0, 0, 0, 0, 0, 0, 0, 0 , 0, 0, 0, 0, 0, 0, 0, 0, 0, 0], # e\n",
    "    [0, 0, 0, 0, 0, 0, 0, 0, 0, 0, 0, 0, 0, 0, 0, 0, 0, 0 , 0, 0, 0, 0, 0, 0, 0, 0, 0, 0], # f\n",
    "    [0, 0, 0, 0, 0, 0, 0, 0, 0, 0, 0, 0, 0, 0, 0, 0, 0, 0 , 0, 0, 0, 0, 0, 0, 0, 0, 0, 0], # g\n",
    "    [0, 0, 0, 0, 0, 0, 0, 0, 0, 0, 0, 0, 0, 0, 0, 0, 0, 0 , 0, 0, 0, 0, 0, 0, 0, 0, 0, 0] # h\n",
    "])\n",
    "\n",
    "input_indices = [\n",
    "    [20], # A\n",
    "    [21], # B\n",
    "    [22], # C\n",
    "    [23], # D\n",
    "    [24], # E\n",
    "    [25], # F\n",
    "    [26], # G\n",
    "    [27], # H\n",
    "    [20, 21], # I\n",
    "    [21, 22], # J\n",
    "    [22, 23], # K\n",
    "    [23, 24], # L\n",
    "    [24, 25], # M\n",
    "    [25, 26], # N\n",
    "    [26, 27], # O\n",
    "    [0, 1], # P\n",
    "    [2, 3], # Q\n",
    "    [4, 5], # R\n",
    "    [6, 7], # S\n",
    "    [15, 16, 17, 18], # T\n",
    "    [], # a\n",
    "    [], # b\n",
    "    [], # c\n",
    "    [], # d\n",
    "    [], # e\n",
    "    [], # f\n",
    "    [], # g\n",
    "    [] # h\n",
    "]\n",
    "\n",
    "modulation_indices = [\n",
    "    [0, 1, 8, 15], # A\n",
    "    [0, 1, 2, 8, 9, 15], # B\n",
    "    [1, 2, 3, 9, 10, 16], # C\n",
    "    [2, 3, 4, 10, 11, 16], # D\n",
    "    [3, 4, 5, 11, 12, 17], # E\n",
    "    [4, 5, 6, 12, 13, 17], # F\n",
    "    [5, 6, 7, 13, 14, 18], # G\n",
    "    [6, 7, 14, 18], # H\n",
    "    [0, 1, 8, 9], # I\n",
    "    [1, 2, 8, 9, 10], # J\n",
    "    [2, 3, 9, 10, 11], # K\n",
    "    [3, 4, 10, 11, 12], # L\n",
    "    [4, 5, 11, 12, 13], # M\n",
    "    [5, 6, 12, 13, 14], # N\n",
    "    [6, 7, 13, 14], # O\n",
    "    [8, 9, 15, 19], # P\n",
    "    [9, 10, 11, 16, 19], # Q\n",
    "    [11, 12, 13, 17, 19], # R\n",
    "    [13, 14, 18, 19], # S\n",
    "    [19], # T\n",
    "    [], # a\n",
    "    [], # b\n",
    "    [], # c\n",
    "    [], # d\n",
    "    [], # e\n",
    "    [], # f\n",
    "    [], # g\n",
    "    [] # h\n",
    "]\n",
    "\n",
    "\n",
    "cm = np.abs(np.where(all_weights != 0, 1, 0))\n",
    "\n",
    "# Transpose our (receiving, sending) CM to use the PyPhi convention of (sending, recieving)\n",
    "cm = np.transpose(cm)\n",
    "\n",
    "cm"
   ]
  },
  {
   "cell_type": "markdown",
   "metadata": {},
   "source": [
    "## Gate functions and default output value"
   ]
  },
  {
   "cell_type": "code",
   "execution_count": 90,
   "metadata": {},
   "outputs": [],
   "source": [
    "df_output_value = 0.95\n",
    "\n",
    "gate_types = [\n",
    "    \"M1\", # A\n",
    "    \"M1\", # B\n",
    "    \"M1\", # C\n",
    "    \"M1\", # D\n",
    "    \"M1\", # E\n",
    "    \"M1\", # F\n",
    "    \"M1\", # G\n",
    "    \"M1\", # H\n",
    "    \"M2\", # I\n",
    "    \"M2\", # J\n",
    "    \"M2\", # K\n",
    "    \"M2\", # L\n",
    "    \"M2\", # M\n",
    "    \"M2\", # N\n",
    "    \"M2\", # O\n",
    "    \"M1\", # P\n",
    "    \"M1\", # Q\n",
    "    \"M1\", # R\n",
    "    \"M1\", # S\n",
    "    \"M1\", # T\n",
    "    [], # a \n",
    "    [], # b\n",
    "    [], # c\n",
    "    [], # d\n",
    "    [], # e\n",
    "    [], # f\n",
    "    [], # g\n",
    "    [] # h\n",
    "]"
   ]
  },
  {
   "cell_type": "code",
   "execution_count": 438,
   "metadata": {
    "scrolled": false
   },
   "outputs": [
    {
     "data": {
      "text/plain": [
       "<matplotlib.colorbar.Colorbar at 0x118577cc0>"
      ]
     },
     "execution_count": 438,
     "metadata": {},
     "output_type": "execute_result"
    },
    {
     "data": {
      "image/png": "[encoded data removed]",
      "text/plain": [
       "<Figure size 1296x864 with 6 Axes>"
      ]
     },
     "metadata": {},
     "output_type": "display_data"
    }
   ],
   "source": [
    "layers = [\n",
    "    ['a', 'b', 'c', 'd', 'e', 'f', 'g', 'h'],\n",
    "    ['A', 'B', 'C', 'D', 'E', 'F', 'G', 'H'],\n",
    "    ['I', 'J', 'K', 'L', 'M', 'N', 'O'],\n",
    "    ['P', 'Q', 'R', 'S'],\n",
    "    ['T']\n",
    "]\n",
    "\n",
    "test_state = ['a', 'g']\n",
    "test_index = find_le_index_by_label(test_state)\n",
    "\n",
    "data = behavior(test_index)  \n",
    "fig, (ax1, ax2, ax3, ax4, ax5) = plt.subplots(ncols=len(layers), sharey=True, figsize=(18, 12))\n",
    "ax_list = fig.axes\n",
    "gs = gridspec.GridSpec(1, 5, width_ratios=[len(layer) for layer in layers])\n",
    "c = None\n",
    "for l in range(len(layers)):\n",
    "    partial_data = data.loc[:, layers[l][0]:layers[l][-1]]\n",
    "    ax_list[l] = plt.subplot(gs[l])\n",
    "    c = ax_list[l].pcolor(partial_data)\n",
    "    ax_list[l].set_xticks(np.arange(partial_data.shape[1]) + 0.5, minor=False)\n",
    "    ax_list[l].set_xticklabels(partial_data.columns)\n",
    "\n",
    "cbaxes = fig.add_axes([0.98, 0.12, 0.01, 0.2]) \n",
    "fig.colorbar(c, cax = cbaxes)\n",
    "# fig.colorbar(c, pad=0.1)"
   ]
  },
  {
   "cell_type": "markdown",
   "metadata": {},
   "source": [
    "## Entire System "
   ]
  },
  {
   "cell_type": "code",
   "execution_count": 439,
   "metadata": {},
   "outputs": [],
   "source": [
    "relevant_nodes = [i for i in range(n_nodes-8)]\n",
    "markov_blankets = find_markov_blankets(relevant_nodes)\n",
    "tpm = built_tpm_for_subsys(relevant_nodes, markov_blankets)\n"
   ]
  },
  {
   "cell_type": "code",
   "execution_count": 442,
   "metadata": {},
   "outputs": [],
   "source": [
    "# Save tpm to network dir\n",
    "with open(f\"{new_dir}/{network_name}_{network_version}_{network_state}_tpm.file\", \"wb\") as f:\n",
    "    pickle.dump(tpm, f, pickle.HIGHEST_PROTOCOL)\n",
    "with open(f\"{new_dir}/{network_name}_{network_version}_{network_state}_tpm.file\", \"rb\") as f:\n",
    "    tpm = pickle.load(f)"
   ]
  },
  {
   "cell_type": "code",
   "execution_count": 443,
   "metadata": {},
   "outputs": [],
   "source": [
    "subsystem_labels = ('A', 'B', 'C', 'D', 'E', 'F', 'G', 'H', 'I', 'J', 'K', 'L', 'M', 'N', 'O', 'P', 'Q', 'R', 'S', 'T')\n",
    "state = tuple([0]*len(relevant_nodes))\n",
    "subsystem_cm = []\n",
    "for a in relevant_nodes:\n",
    "    row = []\n",
    "    for b in relevant_nodes:\n",
    "        row.append(cm[a][b])\n",
    "    subsystem_cm.append(row)\n",
    "subsystem_cm = np.array(subsystem_cm)\n",
    "\n",
    "network = pyphi.Network(tpm, cm=subsystem_cm, node_labels=subsystem_labels)\n",
    "subsystem = pyphi.Subsystem(network, state, range(network.size))\n",
    "A, B, C, D, E, F, G, H, I, J, K, L, M, N, O, P, Q, R, S, T = subsystem.node_indices\n",
    "\n",
    "pyphi.config.REPR_VERBOSITY = 1"
   ]
  },
  {
   "cell_type": "code",
   "execution_count": 542,
   "metadata": {},
   "outputs": [
    {
     "data": {
      "application/vnd.jupyter.widget-view+json": {
       "model_id": "519323af18cc4296afd75b82dd1c6e4e",
       "version_major": 2,
       "version_minor": 0
      },
      "text/plain": [
       "HBox(children=(IntProgress(value=0, max=1), HTML(value='')))"
      ]
     },
     "metadata": {},
     "output_type": "display_data"
    },
    {
     "name": "stdout",
     "output_type": "stream",
     "text": [
      "\n"
     ]
    }
   ],
   "source": [
    "pickle_concepts((0,1),(1,))"
   ]
  },
  {
   "cell_type": "code",
   "execution_count": 583,
   "metadata": {},
   "outputs": [
    {
     "data": {
      "text/plain": [
       "mechanism                                                 (A, P, T)\n",
       "phi                                                        0.006125\n",
       "cause_purview                                 (A, B, I, P, Q, R, S)\n",
       "cause_phi                                                  0.103933\n",
       "cause_mip         (((0, 15), (0, 1, 8)), ((19,), (15, 16, 17, 18)))\n",
       "effect_purview                                            (A, P, T)\n",
       "effect_phi                                                 0.006125\n",
       "effect_mip                    (((0, 15), (0, 15, 19)), ((19,), ()))\n",
       "dtype: object"
      ]
     },
     "execution_count": 583,
     "metadata": {},
     "output_type": "execute_result"
    }
   ],
   "source": [
    "pickle2concept('A')"
   ]
  },
  {
   "cell_type": "code",
   "execution_count": null,
   "metadata": {},
   "outputs": [],
   "source": []
  }
 ],
 "metadata": {
  "kernelspec": {
   "display_name": "Python 3",
   "language": "python",
   "name": "python3"
  },
  "language_info": {
   "codemirror_mode": {
    "name": "ipython",
    "version": 3
   },
   "file_extension": ".py",
   "mimetype": "text/x-python",
   "name": "python",
   "nbconvert_exporter": "python",
   "pygments_lexer": "ipython3",
   "version": "3.6.5"
  }
 },
 "nbformat": 4,
 "nbformat_minor": 2
}
